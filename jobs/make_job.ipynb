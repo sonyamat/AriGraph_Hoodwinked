{
 "cells": [
  {
   "cell_type": "code",
   "execution_count": 10,
   "id": "90f1d723-12e5-447d-a0fa-875c88f3ef92",
   "metadata": {},
   "outputs": [
    {
     "data": {
      "text/html": [
       "<div>\n",
       "<style scoped>\n",
       "    .dataframe tbody tr th:only-of-type {\n",
       "        vertical-align: middle;\n",
       "    }\n",
       "\n",
       "    .dataframe tbody tr th {\n",
       "        vertical-align: top;\n",
       "    }\n",
       "\n",
       "    .dataframe thead th {\n",
       "        text-align: right;\n",
       "    }\n",
       "</style>\n",
       "<table border=\"1\" class=\"dataframe\">\n",
       "  <thead>\n",
       "    <tr style=\"text-align: right;\">\n",
       "      <th></th>\n",
       "      <th>num_games</th>\n",
       "      <th>num_players</th>\n",
       "      <th>impostor_agent</th>\n",
       "      <th>innocent_agent</th>\n",
       "      <th>discussion</th>\n",
       "      <th>start_location</th>\n",
       "    </tr>\n",
       "  </thead>\n",
       "  <tbody>\n",
       "    <tr>\n",
       "      <th>0</th>\n",
       "      <td>10</td>\n",
       "      <td>4</td>\n",
       "      <td>gpt-3.5</td>\n",
       "      <td>gpt-ada</td>\n",
       "      <td>True</td>\n",
       "      <td>random</td>\n",
       "    </tr>\n",
       "    <tr>\n",
       "      <th>1</th>\n",
       "      <td>10</td>\n",
       "      <td>4</td>\n",
       "      <td>gpt-ada</td>\n",
       "      <td>gpt-3.5</td>\n",
       "      <td>True</td>\n",
       "      <td>random</td>\n",
       "    </tr>\n",
       "  </tbody>\n",
       "</table>\n",
       "</div>"
      ],
      "text/plain": [
       "   num_games  num_players impostor_agent innocent_agent  discussion  \\\n",
       "0         10            4        gpt-3.5        gpt-ada        True   \n",
       "1         10            4        gpt-ada        gpt-3.5        True   \n",
       "\n",
       "  start_location  \n",
       "0         random  \n",
       "1         random  "
      ]
     },
     "execution_count": 10,
     "metadata": {},
     "output_type": "execute_result"
    }
   ],
   "source": [
    "import pandas as pd\n",
    "\n",
    "df = pd.read_csv(\"1.csv\")\n",
    "\n",
    "df"
   ]
  },
  {
   "cell_type": "code",
   "execution_count": 11,
   "id": "3df69d4a-6228-44ef-8404-ebd222891fc4",
   "metadata": {},
   "outputs": [],
   "source": [
    "df.loc[2] = df.loc[1]\n",
    "# df.loc[3] = df.loc[1]"
   ]
  },
  {
   "cell_type": "code",
   "execution_count": 12,
   "id": "5c158453-2c8c-49d4-a63d-ba47e02846c6",
   "metadata": {},
   "outputs": [
    {
     "data": {
      "text/html": [
       "<div>\n",
       "<style scoped>\n",
       "    .dataframe tbody tr th:only-of-type {\n",
       "        vertical-align: middle;\n",
       "    }\n",
       "\n",
       "    .dataframe tbody tr th {\n",
       "        vertical-align: top;\n",
       "    }\n",
       "\n",
       "    .dataframe thead th {\n",
       "        text-align: right;\n",
       "    }\n",
       "</style>\n",
       "<table border=\"1\" class=\"dataframe\">\n",
       "  <thead>\n",
       "    <tr style=\"text-align: right;\">\n",
       "      <th></th>\n",
       "      <th>num_games</th>\n",
       "      <th>num_players</th>\n",
       "      <th>impostor_agent</th>\n",
       "      <th>innocent_agent</th>\n",
       "      <th>discussion</th>\n",
       "      <th>start_location</th>\n",
       "      <th>impostor_graph_guidance</th>\n",
       "      <th>innocent_graph_guidance</th>\n",
       "    </tr>\n",
       "  </thead>\n",
       "  <tbody>\n",
       "    <tr>\n",
       "      <th>0</th>\n",
       "      <td>100</td>\n",
       "      <td>5</td>\n",
       "      <td>llama</td>\n",
       "      <td>llama</td>\n",
       "      <td>True</td>\n",
       "      <td>random</td>\n",
       "      <td>True</td>\n",
       "      <td>True</td>\n",
       "    </tr>\n",
       "    <tr>\n",
       "      <th>1</th>\n",
       "      <td>100</td>\n",
       "      <td>5</td>\n",
       "      <td>llama</td>\n",
       "      <td>llama</td>\n",
       "      <td>True</td>\n",
       "      <td>random</td>\n",
       "      <td>True</td>\n",
       "      <td>False</td>\n",
       "    </tr>\n",
       "    <tr>\n",
       "      <th>2</th>\n",
       "      <td>100</td>\n",
       "      <td>5</td>\n",
       "      <td>llama</td>\n",
       "      <td>llama</td>\n",
       "      <td>True</td>\n",
       "      <td>random</td>\n",
       "      <td>False</td>\n",
       "      <td>True</td>\n",
       "    </tr>\n",
       "  </tbody>\n",
       "</table>\n",
       "</div>"
      ],
      "text/plain": [
       "   num_games  num_players impostor_agent innocent_agent  discussion  \\\n",
       "0        100            5          llama          llama        True   \n",
       "1        100            5          llama          llama        True   \n",
       "2        100            5          llama          llama        True   \n",
       "\n",
       "  start_location  impostor_graph_guidance  innocent_graph_guidance  \n",
       "0         random                     True                     True  \n",
       "1         random                     True                    False  \n",
       "2         random                    False                     True  "
      ]
     },
     "execution_count": 12,
     "metadata": {},
     "output_type": "execute_result"
    }
   ],
   "source": [
    "df['impostor_agent'] = ['llama', 'llama', 'llama']\n",
    "df['innocent_agent'] = ['llama', 'llama', 'llama']\n",
    "\n",
    "df['num_games'] = [100, 100, 100]\n",
    "\n",
    "df['num_players'] = [5, 5, 5]\n",
    "\n",
    "df['impostor_graph_guidance'] = [True, True, False]\n",
    "df['innocent_graph_guidance'] = [True, False, True]\n",
    "\n",
    "df"
   ]
  },
  {
   "cell_type": "code",
   "execution_count": 14,
   "id": "c6bd75e3-fc25-4d4c-8b70-fe36dc40a977",
   "metadata": {},
   "outputs": [],
   "source": [
    "df.to_csv(\"graph_guidance_exp_3.csv\")"
   ]
  }
 ],
 "metadata": {
  "kernelspec": {
   "display_name": "Python 3 (ipykernel)",
   "language": "python",
   "name": "python3"
  },
  "language_info": {
   "codemirror_mode": {
    "name": "ipython",
    "version": 3
   },
   "file_extension": ".py",
   "mimetype": "text/x-python",
   "name": "python",
   "nbconvert_exporter": "python",
   "pygments_lexer": "ipython3",
   "version": "3.8.20"
  }
 },
 "nbformat": 4,
 "nbformat_minor": 5
}
