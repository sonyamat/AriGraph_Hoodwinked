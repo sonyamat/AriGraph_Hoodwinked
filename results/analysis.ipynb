{
 "cells": [
  {
   "cell_type": "code",
   "execution_count": 87,
   "id": "1395afb5-ab70-4994-9c1e-b0920fa7d672",
   "metadata": {},
   "outputs": [],
   "source": [
    "import pandas as pd\n",
    "import numpy as np"
   ]
  },
  {
   "cell_type": "code",
   "execution_count": 88,
   "id": "5c822f76-75cd-420b-95b7-f37d03d62011",
   "metadata": {},
   "outputs": [],
   "source": [
    "name = 'graph_players_exp'\n",
    "exps = ['4', '6', '5', '7', '7_temp', '8', '8_temp', '9', '10', '15', '16']\n",
    "exp_dfs = []\n",
    "\n",
    "for exp in exps:\n",
    "    exp_dfs.append(pd.read_csv(f\"{name}_{exp}.csv\"))\n",
    "\n",
    "df = pd.concat(exp_dfs)\n",
    "df['game_setup'] = df['impostor_type'] + ', ' + df['innocent_type']"
   ]
  },
  {
   "cell_type": "code",
   "execution_count": 89,
   "id": "dba2b751-a973-4c3d-863a-40536a4512ad",
   "metadata": {},
   "outputs": [],
   "source": [
    "# leave 50 of each"
   ]
  },
  {
   "cell_type": "code",
   "execution_count": 90,
   "id": "feb9d53f-e48b-4395-bd53-c24797835b60",
   "metadata": {},
   "outputs": [],
   "source": [
    "assert (df['runtime'].nunique()) == (df['game_setup'].value_counts()/5).sum()"
   ]
  },
  {
   "cell_type": "code",
   "execution_count": 91,
   "id": "d8d8a6d8-6b73-4cba-85c0-d9c8fa69d7b7",
   "metadata": {},
   "outputs": [],
   "source": [
    "len_before_merge = len(df)\n",
    "\n",
    "game_stats = df.groupby('runtime').apply(lambda group: pd.Series({\n",
    "    'innocent_banished_cnt': (group['banished'] & ~group['killer']).astype(float).sum(),\n",
    "    'killer_banished_flg': (group['killer'] & group['banished']).any().astype(float)\n",
    "})).reset_index()\n",
    "\n",
    "assert (df['runtime'].nunique()) == (df['game_setup'].value_counts()/5).sum()\n",
    "assert (len(game_stats) == int((df['game_setup'].value_counts()/5).sum()))\n",
    "\n",
    "df = df.merge(\n",
    "    game_stats[['runtime', 'innocent_banished_cnt', 'killer_banished_flg']],\n",
    "    on='runtime',\n",
    "    how='inner'\n",
    ").reset_index()\n",
    "\n",
    "assert (len(df) == len_before_merge)"
   ]
  },
  {
   "cell_type": "code",
   "execution_count": 92,
   "id": "e3cfbdab-6518-4d6a-ad77-b4fc464a0831",
   "metadata": {},
   "outputs": [],
   "source": [
    "df['player_type'] = np.where(df['killer'], df['impostor_type'], df['innocent_type'])\n",
    "# df['duplicate_search_rate'] = df['duplicate_search_rate'].fillna(0)\n",
    "# df['vote_rate_for_killer'] = df['vote_rate_for_killer'].fillna(0)\n",
    "# df['witness_vote_rate_for_killer'] = df['witness_vote_rate_for_killer'].fillna(0)"
   ]
  },
  {
   "cell_type": "code",
   "execution_count": 93,
   "id": "eba397b3-da4f-48cf-bd4f-86d6f3c19489",
   "metadata": {},
   "outputs": [
    {
     "name": "stdout",
     "output_type": "stream",
     "text": [
      "                     Overall        Player RelGraphPlayer AriGraphPlayer\n",
      "Player          [1.95, 2.21]  [1.92, 2.34]   [1.94, 2.38]   [1.68, 2.18]\n",
      "RelGraphPlayer  [1.82, 2.12]  [1.73, 2.13]   [2.34, 2.86]   [1.45, 1.89]\n",
      "AriGraphPlayer  [1.99, 2.27]  [1.88, 2.32]   [2.00, 2.40]   [1.44, 2.33]\n",
      "                     Overall        Player RelGraphPlayer AriGraphPlayer\n",
      "Player          [0.21, 0.33]  [0.14, 0.34]   [0.20, 0.42]   [0.16, 0.36]\n",
      "RelGraphPlayer  [0.21, 0.34]  [0.25, 0.48]   [0.03, 0.21]   [0.20, 0.39]\n",
      "AriGraphPlayer  [0.21, 0.35]  [0.20, 0.42]   [0.20, 0.40]   [0.00, 0.33]\n"
     ]
    }
   ],
   "source": [
    "# import plotly.graph_objects as go\n",
    "from IPython.display import display\n",
    "\n",
    "def bootstrap_ci(data, n_iterations=1000, conf=0.9):\n",
    "    means = []\n",
    "    n_size = len(data)\n",
    "    alpha = (1 - conf) / 2 * 100\n",
    "    \n",
    "    for _ in range(n_iterations):\n",
    "        sample = np.random.choice(data, size=n_size, replace=True)\n",
    "        means.append(np.mean(sample))\n",
    "    \n",
    "    mean = np.mean(means)\n",
    "    lower = np.percentile(means, alpha)\n",
    "    upper = np.percentile(means, 100 - alpha)\n",
    "\n",
    "    return (lower, upper)\n",
    "\n",
    "def crosstab_table(df: pd.DataFrame, target: str, access_impostor=True):\n",
    "    player_types = ['Player', 'RelGraphPlayer', 'AriGraphPlayer']\n",
    "    table_data = pd.DataFrame(index=player_types, columns=['Overall'] + player_types)\n",
    "    exact_ci = {}\n",
    "\n",
    "    if access_impostor:\n",
    "        i_col = 'impostor_type'\n",
    "        j_col = 'innocent_type'\n",
    "    else:\n",
    "        j_col = 'impostor_type'\n",
    "        i_col = 'innocent_type'\n",
    "    \n",
    "    for i in player_types:\n",
    "        subset = df[df[i_col] == i][target].dropna()\n",
    "        ci = bootstrap_ci(subset) if not subset.empty else None\n",
    "        table_data.loc[i, 'Overall'] = f\"[{ci[0]:.2f}, {ci[1]:.2f}]\" if ci else \"None\"\n",
    "        \n",
    "        exact_ci[i] = {}\n",
    "        exact_ci[i]['Overall'] = ci\n",
    "        for j in player_types:\n",
    "            subset = df[(df[j_col] == j) & (df[i_col] == i)][target].dropna()\n",
    "            ci = bootstrap_ci(subset) if not subset.empty else None\n",
    "            table_data.loc[i, j] = f\"[{ci[0]:.2f}, {ci[1]:.2f}]\" if ci else \"None\"\n",
    "            exact_ci[i][j] = ci\n",
    "\n",
    "    print(table_data)\n",
    "\n",
    "crosstab_table(df[df['killer']], 'num_killed')\n",
    "crosstab_table(df[df['killer']], 'killer_banished_flg')"
   ]
  },
  {
   "cell_type": "code",
   "execution_count": 94,
   "id": "44e5fbf5-8c5a-4b7c-b7d6-1935d4ca7a7f",
   "metadata": {},
   "outputs": [
    {
     "name": "stdout",
     "output_type": "stream",
     "text": [
      "                     Overall        Player RelGraphPlayer AriGraphPlayer\n",
      "Player          [0.12, 0.17]  [0.12, 0.20]   [0.12, 0.21]   [0.08, 0.15]\n",
      "RelGraphPlayer  [0.07, 0.11]  [0.04, 0.10]   [0.04, 0.12]   [0.07, 0.14]\n",
      "AriGraphPlayer  [0.20, 0.26]  [0.14, 0.23]   [0.21, 0.31]   [0.14, 0.36]\n"
     ]
    }
   ],
   "source": [
    "crosstab_table(df[~df['killer']], 'escaped', access_impostor=False)"
   ]
  },
  {
   "cell_type": "code",
   "execution_count": 95,
   "id": "8c5137c3-7919-4d6f-b254-d6d9f8b49bb8",
   "metadata": {},
   "outputs": [
    {
     "name": "stdout",
     "output_type": "stream",
     "text": [
      "                     Overall        Player RelGraphPlayer AriGraphPlayer\n",
      "Player          [0.08, 0.11]  [0.08, 0.14]   [0.06, 0.10]   [0.07, 0.12]\n",
      "RelGraphPlayer  [0.15, 0.20]  [0.14, 0.22]   [0.12, 0.22]   [0.13, 0.22]\n",
      "AriGraphPlayer  [0.04, 0.06]  [0.03, 0.07]   [0.04, 0.07]   [0.00, 0.06]\n"
     ]
    }
   ],
   "source": [
    "crosstab_table(df[~df['killer']], 'duplicate_search_rate', access_impostor=False)"
   ]
  },
  {
   "cell_type": "code",
   "execution_count": 96,
   "id": "3600d84d-47d7-4b4e-8140-05f9f58b2efb",
   "metadata": {},
   "outputs": [
    {
     "name": "stdout",
     "output_type": "stream",
     "text": [
      "                     Overall        Player RelGraphPlayer AriGraphPlayer\n",
      "Player          [0.45, 0.53]  [0.35, 0.47]   [0.51, 0.64]   [0.42, 0.54]\n",
      "RelGraphPlayer  [0.45, 0.53]  [0.46, 0.58]   [0.31, 0.46]   [0.45, 0.58]\n",
      "AriGraphPlayer  [0.45, 0.53]  [0.39, 0.52]   [0.48, 0.61]   [0.18, 0.50]\n"
     ]
    }
   ],
   "source": [
    "crosstab_table(df[~df['killer']], 'vote_rate_for_killer', access_impostor=False)"
   ]
  },
  {
   "cell_type": "code",
   "execution_count": 97,
   "id": "a5fe0ceb-2ffe-4fcd-a1d2-308580df2d7e",
   "metadata": {},
   "outputs": [
    {
     "name": "stdout",
     "output_type": "stream",
     "text": [
      "                     Overall        Player RelGraphPlayer AriGraphPlayer\n",
      "Player          [0.49, 0.64]  [0.16, 0.40]   [0.67, 0.89]   [0.47, 0.72]\n",
      "RelGraphPlayer  [0.49, 0.68]  [0.43, 0.72]   [0.15, 0.65]   [0.50, 0.80]\n",
      "AriGraphPlayer  [0.67, 0.87]  [0.62, 0.90]   [0.64, 0.93]   [0.33, 1.00]\n"
     ]
    }
   ],
   "source": [
    "crosstab_table(df[~df['killer']], 'witness_vote_rate_for_killer', access_impostor=False)"
   ]
  },
  {
   "cell_type": "code",
   "execution_count": 98,
   "id": "736d9e72-e795-4532-8325-245065d18e4e",
   "metadata": {},
   "outputs": [
    {
     "name": "stdout",
     "output_type": "stream",
     "text": [
      "                     Overall        Player RelGraphPlayer AriGraphPlayer\n",
      "Player          [0.52, 0.58]  [0.56, 0.68]   [0.39, 0.50]   [0.55, 0.66]\n",
      "RelGraphPlayer  [0.59, 0.66]  [0.56, 0.68]   [0.70, 0.82]   [0.50, 0.62]\n",
      "AriGraphPlayer  [0.51, 0.58]  [0.53, 0.64]   [0.43, 0.54]   [0.67, 0.89]\n"
     ]
    }
   ],
   "source": [
    "crosstab_table(df[~df['killer']], 'innocent_banished_cnt', access_impostor=False)"
   ]
  },
  {
   "cell_type": "code",
   "execution_count": 99,
   "id": "31f38a58-4ec4-4d73-97ed-e8e1a8968a81",
   "metadata": {},
   "outputs": [
    {
     "data": {
      "text/html": [
       "<div>\n",
       "<style scoped>\n",
       "    .dataframe tbody tr th:only-of-type {\n",
       "        vertical-align: middle;\n",
       "    }\n",
       "\n",
       "    .dataframe tbody tr th {\n",
       "        vertical-align: top;\n",
       "    }\n",
       "\n",
       "    .dataframe thead th {\n",
       "        text-align: right;\n",
       "    }\n",
       "</style>\n",
       "<table border=\"1\" class=\"dataframe\">\n",
       "  <thead>\n",
       "    <tr style=\"text-align: right;\">\n",
       "      <th></th>\n",
       "      <th>runtime</th>\n",
       "    </tr>\n",
       "    <tr>\n",
       "      <th>innocent_type</th>\n",
       "      <th></th>\n",
       "    </tr>\n",
       "  </thead>\n",
       "  <tbody>\n",
       "    <tr>\n",
       "      <th>AriGraphPlayer</th>\n",
       "      <td>769.007697</td>\n",
       "    </tr>\n",
       "    <tr>\n",
       "      <th>Player</th>\n",
       "      <td>38.876689</td>\n",
       "    </tr>\n",
       "    <tr>\n",
       "      <th>RelGraphPlayer</th>\n",
       "      <td>865.180591</td>\n",
       "    </tr>\n",
       "  </tbody>\n",
       "</table>\n",
       "</div>"
      ],
      "text/plain": [
       "                   runtime\n",
       "innocent_type             \n",
       "AriGraphPlayer  769.007697\n",
       "Player           38.876689\n",
       "RelGraphPlayer  865.180591"
      ]
     },
     "execution_count": 99,
     "metadata": {},
     "output_type": "execute_result"
    }
   ],
   "source": [
    "df[df['innocent_type'] == df['impostor_type']][['innocent_type', 'runtime']].groupby('innocent_type').mean()"
   ]
  },
  {
   "cell_type": "code",
   "execution_count": null,
   "id": "5ca0ddb7-f387-444e-8cb0-442a89e95cab",
   "metadata": {},
   "outputs": [],
   "source": []
  }
 ],
 "metadata": {
  "kernelspec": {
   "display_name": "Python 3 (ipykernel)",
   "language": "python",
   "name": "python3"
  },
  "language_info": {
   "codemirror_mode": {
    "name": "ipython",
    "version": 3
   },
   "file_extension": ".py",
   "mimetype": "text/x-python",
   "name": "python",
   "nbconvert_exporter": "python",
   "pygments_lexer": "ipython3",
   "version": "3.8.10"
  }
 },
 "nbformat": 4,
 "nbformat_minor": 5
}
